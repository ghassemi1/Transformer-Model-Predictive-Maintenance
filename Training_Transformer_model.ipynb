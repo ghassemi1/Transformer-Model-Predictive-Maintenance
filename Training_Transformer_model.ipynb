{
 "cells": [
  {
   "cell_type": "code",
   "execution_count": 2,
   "metadata": {
    "ExecuteTime": {
     "end_time": "2023-08-17T02:04:20.559675Z",
     "start_time": "2023-08-17T02:04:20.549643Z"
    },
    "execution": {
     "iopub.execute_input": "2023-08-17T01:02:55.739863Z",
     "iopub.status.busy": "2023-08-17T01:02:55.739095Z",
     "iopub.status.idle": "2023-08-17T01:02:55.750765Z",
     "shell.execute_reply": "2023-08-17T01:02:55.747431Z",
     "shell.execute_reply.started": "2023-08-17T01:02:55.739824Z"
    }
   },
   "outputs": [],
   "source": [
    "##########################################################\n",
    "# This jupyter file needs these version of libraries\n",
    "###########################################################\n",
    "\n",
    "# import keras\n",
    "# import tensorflow as tf\n",
    "# import sklearn\n",
    "# import pandas\n",
    "# import numpy\n",
    "\n",
    "# print('Using SKlearn version',sklearn.__version__)\n",
    "# print('Using np version',np.__version__)\n",
    "# print('Using pd version',pd.__version__)\n",
    "# print('Using tf version',tf.__version__)\n",
    "# print('Using keras version',keras.__version__)\n",
    "\n",
    "\n",
    "# Using SKlearn version 0.23.2\n",
    "# Using np version 1.19.5\n",
    "# Using pd version 1.3.4\n",
    "# Using tf version 2.6.0\n",
    "# Using keras version 2.6.0"
   ]
  },
  {
   "cell_type": "code",
   "execution_count": 14,
   "metadata": {
    "ExecuteTime": {
     "end_time": "2023-08-17T02:15:28.948339Z",
     "start_time": "2023-08-17T02:15:28.931728Z"
    },
    "_cell_guid": "b1076dfc-b9ad-4769-8c92-a6c4dae69d19",
    "_uuid": "8f2839f25d086af736a60e9eeb907d3b93b6e0e5",
    "execution": {
     "iopub.execute_input": "2023-08-17T01:02:51.063995Z",
     "iopub.status.busy": "2023-08-17T01:02:51.063704Z",
     "iopub.status.idle": "2023-08-17T01:02:51.413358Z",
     "shell.execute_reply": "2023-08-17T01:02:51.411601Z",
     "shell.execute_reply.started": "2023-08-17T01:02:51.063962Z"
    }
   },
   "outputs": [],
   "source": [
    "from copy import copy\n",
    "import pandas as pd\n",
    "import numpy as np\n",
    "import matplotlib.pyplot as plt\n",
    "from sklearn.preprocessing import MinMaxScaler\n",
    "import pickle\n",
    "import tensorflow as tf"
   ]
  },
  {
   "cell_type": "code",
   "execution_count": 3,
   "metadata": {
    "ExecuteTime": {
     "end_time": "2023-08-17T02:04:25.724865Z",
     "start_time": "2023-08-17T02:04:24.975651Z"
    },
    "execution": {
     "iopub.execute_input": "2023-08-16T19:15:59.877834Z",
     "iopub.status.busy": "2023-08-16T19:15:59.877048Z",
     "iopub.status.idle": "2023-08-16T19:16:01.746425Z",
     "shell.execute_reply": "2023-08-16T19:16:01.745611Z",
     "shell.execute_reply.started": "2023-08-16T19:15:59.877795Z"
    }
   },
   "outputs": [],
   "source": [
    "# Read original files \n",
    "data1 = pd.read_csv('./data/PdM_errors.csv')\n",
    "data2 = pd.read_csv('./data/PdM_telemetry.csv')\n",
    "data3= pd.read_csv('./data/PdM_failures.csv')\n",
    "data4= pd.read_csv('./data/PdM_machines.csv')\n",
    "data5 = pd.read_csv ('./data/PdM_maint.csv')\n"
   ]
  },
  {
   "cell_type": "code",
   "execution_count": 4,
   "metadata": {
    "ExecuteTime": {
     "end_time": "2023-08-17T02:04:26.842864Z",
     "start_time": "2023-08-17T02:04:26.817862Z"
    },
    "execution": {
     "iopub.execute_input": "2023-08-16T19:16:10.266101Z",
     "iopub.status.busy": "2023-08-16T19:16:10.265683Z",
     "iopub.status.idle": "2023-08-16T19:16:10.298560Z",
     "shell.execute_reply": "2023-08-16T19:16:10.297758Z",
     "shell.execute_reply.started": "2023-08-16T19:16:10.266064Z"
    }
   },
   "outputs": [],
   "source": [
    "# Prepare a failures file\n",
    "data3['comp1_fail']=0\n",
    "data3['comp2_fail']=0\n",
    "data3['comp3_fail']=0\n",
    "data3['comp4_fail']=0\n",
    "counter=0\n",
    "for itera in data3.failure:\n",
    "    if itera==\"comp1\":\n",
    "        data3.at[counter,'comp1_fail']=1\n",
    "    elif itera==\"comp2\":\n",
    "        data3.at[counter,'comp2_fail']=1\n",
    "    elif itera==\"comp3\":\n",
    "        data3.at[counter,'comp3_fail']=1\n",
    "    elif itera==\"comp4\":\n",
    "        data3.at[counter,'comp4_fail']=1\n",
    "    counter=counter+1\n",
    "data3=data3.drop(columns=['failure']) \n",
    "#ready faulure csv\n",
    "data4=data4.drop(columns=['model'])"
   ]
  },
  {
   "cell_type": "code",
   "execution_count": 5,
   "metadata": {
    "ExecuteTime": {
     "end_time": "2023-08-17T02:04:28.662231Z",
     "start_time": "2023-08-17T02:04:28.609646Z"
    },
    "execution": {
     "iopub.execute_input": "2023-08-16T13:25:07.790704Z",
     "iopub.status.busy": "2023-08-16T13:25:07.789949Z",
     "iopub.status.idle": "2023-08-16T13:25:07.855596Z",
     "shell.execute_reply": "2023-08-16T13:25:07.854865Z",
     "shell.execute_reply.started": "2023-08-16T13:25:07.790664Z"
    }
   },
   "outputs": [],
   "source": [
    "# Prepare an errors file\n",
    "data1['error1']=0\n",
    "data1['error2']=0\n",
    "data1['error3']=0\n",
    "data1['error4']=0\n",
    "data1['error5']=0\n",
    "counter = 0\n",
    "\n",
    "for itera in data1.errorID:\n",
    "    if itera==\"error1\":\n",
    "        data1.at[counter,'error1']=1\n",
    "    elif itera==\"error2\":\n",
    "        data1.at[counter,'error2']=1\n",
    "    elif itera==\"error3\":\n",
    "        data1.at[counter,'error3']=1\n",
    "    elif itera==\"error4\":\n",
    "        data1.at[counter,'error4']=1\n",
    "    elif itera==\"error5\":\n",
    "        data1.at[counter,'error5']=1\n",
    "    counter=counter+1\n",
    "    \n",
    "data1=data1.drop(columns=['errorID']) \n",
    "\n"
   ]
  },
  {
   "cell_type": "code",
   "execution_count": 6,
   "metadata": {
    "ExecuteTime": {
     "end_time": "2023-08-17T02:04:30.357284Z",
     "start_time": "2023-08-17T02:04:30.152295Z"
    },
    "execution": {
     "iopub.execute_input": "2023-08-16T13:25:11.006695Z",
     "iopub.status.busy": "2023-08-16T13:25:11.006403Z",
     "iopub.status.idle": "2023-08-16T13:25:11.334104Z",
     "shell.execute_reply": "2023-08-16T13:25:11.333314Z",
     "shell.execute_reply.started": "2023-08-16T13:25:11.006661Z"
    }
   },
   "outputs": [],
   "source": [
    "# Prepare a maintanance file \n",
    "data5 = data5[data5['datetime'] >= '2015']\n",
    "data5['comp1_maint']=0\n",
    "data5['comp2_maint']=0\n",
    "data5['comp3_maint']=0\n",
    "data5['comp4_maint']=0\n",
    "counter=0\n",
    "for itera in data5.comp:\n",
    "    if itera==\"comp1\":\n",
    "        data5.at[counter,'comp1_maint']=1\n",
    "    elif itera==\"comp2\":\n",
    "        data5.at[counter,'comp2_maint']=1\n",
    "    elif itera==\"comp3\":\n",
    "        data5.at[counter,'comp3_maint']=1\n",
    "    elif itera==\"comp4\":\n",
    "        data5.at[counter,'comp4_maint']=1\n",
    "    counter=counter+1\n",
    "data5=data5.drop(columns=['comp'])\n",
    "\n"
   ]
  },
  {
   "cell_type": "code",
   "execution_count": 7,
   "metadata": {
    "ExecuteTime": {
     "end_time": "2023-08-17T02:04:34.151295Z",
     "start_time": "2023-08-17T02:04:32.145198Z"
    },
    "execution": {
     "iopub.execute_input": "2023-08-16T13:25:16.295755Z",
     "iopub.status.busy": "2023-08-16T13:25:16.295016Z",
     "iopub.status.idle": "2023-08-16T13:25:18.474941Z",
     "shell.execute_reply": "2023-08-16T13:25:18.474069Z",
     "shell.execute_reply.started": "2023-08-16T13:25:16.295711Z"
    }
   },
   "outputs": [
    {
     "data": {
      "text/html": [
       "<div>\n",
       "<style scoped>\n",
       "    .dataframe tbody tr th:only-of-type {\n",
       "        vertical-align: middle;\n",
       "    }\n",
       "\n",
       "    .dataframe tbody tr th {\n",
       "        vertical-align: top;\n",
       "    }\n",
       "\n",
       "    .dataframe thead th {\n",
       "        text-align: right;\n",
       "    }\n",
       "</style>\n",
       "<table border=\"1\" class=\"dataframe\">\n",
       "  <thead>\n",
       "    <tr style=\"text-align: right;\">\n",
       "      <th></th>\n",
       "      <th>machineID</th>\n",
       "      <th>datetime</th>\n",
       "      <th>volt</th>\n",
       "      <th>rotate</th>\n",
       "      <th>pressure</th>\n",
       "      <th>vibration</th>\n",
       "      <th>error1</th>\n",
       "      <th>error2</th>\n",
       "      <th>error3</th>\n",
       "      <th>error4</th>\n",
       "      <th>error5</th>\n",
       "      <th>comp1_fail</th>\n",
       "      <th>comp2_fail</th>\n",
       "      <th>comp3_fail</th>\n",
       "      <th>comp4_fail</th>\n",
       "      <th>comp1_maint</th>\n",
       "      <th>comp2_maint</th>\n",
       "      <th>comp3_maint</th>\n",
       "      <th>comp4_maint</th>\n",
       "      <th>age</th>\n",
       "    </tr>\n",
       "  </thead>\n",
       "  <tbody>\n",
       "    <tr>\n",
       "      <th>0</th>\n",
       "      <td>1</td>\n",
       "      <td>2015-01-01 06:00:00</td>\n",
       "      <td>176.217853</td>\n",
       "      <td>418.504078</td>\n",
       "      <td>113.077935</td>\n",
       "      <td>45.087686</td>\n",
       "      <td>0.0</td>\n",
       "      <td>0.0</td>\n",
       "      <td>0.0</td>\n",
       "      <td>0.0</td>\n",
       "      <td>0.0</td>\n",
       "      <td>0.0</td>\n",
       "      <td>0.0</td>\n",
       "      <td>0.0</td>\n",
       "      <td>0.0</td>\n",
       "      <td>0.0</td>\n",
       "      <td>0.0</td>\n",
       "      <td>0.0</td>\n",
       "      <td>0.0</td>\n",
       "      <td>18</td>\n",
       "    </tr>\n",
       "    <tr>\n",
       "      <th>1</th>\n",
       "      <td>1</td>\n",
       "      <td>2015-01-01 07:00:00</td>\n",
       "      <td>162.879223</td>\n",
       "      <td>402.747490</td>\n",
       "      <td>95.460525</td>\n",
       "      <td>43.413973</td>\n",
       "      <td>0.0</td>\n",
       "      <td>0.0</td>\n",
       "      <td>0.0</td>\n",
       "      <td>0.0</td>\n",
       "      <td>0.0</td>\n",
       "      <td>0.0</td>\n",
       "      <td>0.0</td>\n",
       "      <td>0.0</td>\n",
       "      <td>0.0</td>\n",
       "      <td>0.0</td>\n",
       "      <td>0.0</td>\n",
       "      <td>0.0</td>\n",
       "      <td>0.0</td>\n",
       "      <td>18</td>\n",
       "    </tr>\n",
       "    <tr>\n",
       "      <th>2</th>\n",
       "      <td>1</td>\n",
       "      <td>2015-01-01 08:00:00</td>\n",
       "      <td>170.989902</td>\n",
       "      <td>527.349825</td>\n",
       "      <td>75.237905</td>\n",
       "      <td>34.178847</td>\n",
       "      <td>0.0</td>\n",
       "      <td>0.0</td>\n",
       "      <td>0.0</td>\n",
       "      <td>0.0</td>\n",
       "      <td>0.0</td>\n",
       "      <td>0.0</td>\n",
       "      <td>0.0</td>\n",
       "      <td>0.0</td>\n",
       "      <td>0.0</td>\n",
       "      <td>0.0</td>\n",
       "      <td>0.0</td>\n",
       "      <td>0.0</td>\n",
       "      <td>0.0</td>\n",
       "      <td>18</td>\n",
       "    </tr>\n",
       "    <tr>\n",
       "      <th>3</th>\n",
       "      <td>1</td>\n",
       "      <td>2015-01-01 09:00:00</td>\n",
       "      <td>162.462833</td>\n",
       "      <td>346.149335</td>\n",
       "      <td>109.248561</td>\n",
       "      <td>41.122144</td>\n",
       "      <td>0.0</td>\n",
       "      <td>0.0</td>\n",
       "      <td>0.0</td>\n",
       "      <td>0.0</td>\n",
       "      <td>0.0</td>\n",
       "      <td>0.0</td>\n",
       "      <td>0.0</td>\n",
       "      <td>0.0</td>\n",
       "      <td>0.0</td>\n",
       "      <td>0.0</td>\n",
       "      <td>0.0</td>\n",
       "      <td>0.0</td>\n",
       "      <td>0.0</td>\n",
       "      <td>18</td>\n",
       "    </tr>\n",
       "    <tr>\n",
       "      <th>4</th>\n",
       "      <td>1</td>\n",
       "      <td>2015-01-01 10:00:00</td>\n",
       "      <td>157.610021</td>\n",
       "      <td>435.376873</td>\n",
       "      <td>111.886648</td>\n",
       "      <td>25.990511</td>\n",
       "      <td>0.0</td>\n",
       "      <td>0.0</td>\n",
       "      <td>0.0</td>\n",
       "      <td>0.0</td>\n",
       "      <td>0.0</td>\n",
       "      <td>0.0</td>\n",
       "      <td>0.0</td>\n",
       "      <td>0.0</td>\n",
       "      <td>0.0</td>\n",
       "      <td>0.0</td>\n",
       "      <td>0.0</td>\n",
       "      <td>0.0</td>\n",
       "      <td>0.0</td>\n",
       "      <td>18</td>\n",
       "    </tr>\n",
       "  </tbody>\n",
       "</table>\n",
       "</div>"
      ],
      "text/plain": [
       "   machineID             datetime        volt      rotate    pressure  \\\n",
       "0          1  2015-01-01 06:00:00  176.217853  418.504078  113.077935   \n",
       "1          1  2015-01-01 07:00:00  162.879223  402.747490   95.460525   \n",
       "2          1  2015-01-01 08:00:00  170.989902  527.349825   75.237905   \n",
       "3          1  2015-01-01 09:00:00  162.462833  346.149335  109.248561   \n",
       "4          1  2015-01-01 10:00:00  157.610021  435.376873  111.886648   \n",
       "\n",
       "   vibration  error1  error2  error3  error4  error5  comp1_fail  comp2_fail  \\\n",
       "0  45.087686     0.0     0.0     0.0     0.0     0.0         0.0         0.0   \n",
       "1  43.413973     0.0     0.0     0.0     0.0     0.0         0.0         0.0   \n",
       "2  34.178847     0.0     0.0     0.0     0.0     0.0         0.0         0.0   \n",
       "3  41.122144     0.0     0.0     0.0     0.0     0.0         0.0         0.0   \n",
       "4  25.990511     0.0     0.0     0.0     0.0     0.0         0.0         0.0   \n",
       "\n",
       "   comp3_fail  comp4_fail  comp1_maint  comp2_maint  comp3_maint  comp4_maint  \\\n",
       "0         0.0         0.0          0.0          0.0          0.0          0.0   \n",
       "1         0.0         0.0          0.0          0.0          0.0          0.0   \n",
       "2         0.0         0.0          0.0          0.0          0.0          0.0   \n",
       "3         0.0         0.0          0.0          0.0          0.0          0.0   \n",
       "4         0.0         0.0          0.0          0.0          0.0          0.0   \n",
       "\n",
       "   age  \n",
       "0   18  \n",
       "1   18  \n",
       "2   18  \n",
       "3   18  \n",
       "4   18  "
      ]
     },
     "execution_count": 7,
     "metadata": {},
     "output_type": "execute_result"
    }
   ],
   "source": [
    "# Merge all files in one file\n",
    "\n",
    "output1 = pd.merge(data2, data1 ,on=['datetime','machineID'],how='left')\n",
    "\n",
    "output2 = pd.merge(output1, data3 ,on=['datetime','machineID'],how='left')\n",
    "\n",
    "output3 = pd.merge(output2, data5 ,on=['datetime','machineID'],how='left')\n",
    "\n",
    "final_output = pd.merge(output3, data4 ,on='machineID',how='left') \n",
    "final_output = final_output.replace(np.nan, 0)\n",
    "final_output = final_output.groupby(['machineID','datetime']).max()\n",
    "final_output=final_output.reset_index()\n",
    "\n",
    "final_output.head()"
   ]
  },
  {
   "cell_type": "code",
   "execution_count": 12,
   "metadata": {
    "ExecuteTime": {
     "end_time": "2023-08-17T02:13:45.531562Z",
     "start_time": "2023-08-17T02:13:44.839655Z"
    },
    "execution": {
     "iopub.execute_input": "2023-08-16T18:51:51.671695Z",
     "iopub.status.busy": "2023-08-16T18:51:51.671067Z",
     "iopub.status.idle": "2023-08-16T18:51:52.515199Z",
     "shell.execute_reply": "2023-08-16T18:51:52.514162Z",
     "shell.execute_reply.started": "2023-08-16T18:51:51.671598Z"
    },
    "scrolled": true
   },
   "outputs": [
    {
     "data": {
      "text/html": [
       "<div>\n",
       "<style scoped>\n",
       "    .dataframe tbody tr th:only-of-type {\n",
       "        vertical-align: middle;\n",
       "    }\n",
       "\n",
       "    .dataframe tbody tr th {\n",
       "        vertical-align: top;\n",
       "    }\n",
       "\n",
       "    .dataframe thead th {\n",
       "        text-align: right;\n",
       "    }\n",
       "</style>\n",
       "<table border=\"1\" class=\"dataframe\">\n",
       "  <thead>\n",
       "    <tr style=\"text-align: right;\">\n",
       "      <th></th>\n",
       "      <th>machineID</th>\n",
       "      <th>volt</th>\n",
       "      <th>rotate</th>\n",
       "      <th>pressure</th>\n",
       "      <th>vibration</th>\n",
       "      <th>error1</th>\n",
       "      <th>error2</th>\n",
       "      <th>error3</th>\n",
       "      <th>error4</th>\n",
       "      <th>error5</th>\n",
       "      <th>comp1_maint</th>\n",
       "      <th>comp2_maint</th>\n",
       "      <th>comp3_maint</th>\n",
       "      <th>comp4_maint</th>\n",
       "      <th>age</th>\n",
       "    </tr>\n",
       "  </thead>\n",
       "  <tbody>\n",
       "    <tr>\n",
       "      <th>0</th>\n",
       "      <td>1</td>\n",
       "      <td>0.513781</td>\n",
       "      <td>0.503194</td>\n",
       "      <td>0.459050</td>\n",
       "      <td>0.487945</td>\n",
       "      <td>0.0</td>\n",
       "      <td>0.0</td>\n",
       "      <td>0.0</td>\n",
       "      <td>0.0</td>\n",
       "      <td>0.0</td>\n",
       "      <td>0.0</td>\n",
       "      <td>0.0</td>\n",
       "      <td>0.0</td>\n",
       "      <td>0.0</td>\n",
       "      <td>0.9</td>\n",
       "    </tr>\n",
       "    <tr>\n",
       "      <th>1</th>\n",
       "      <td>1</td>\n",
       "      <td>0.426905</td>\n",
       "      <td>0.474884</td>\n",
       "      <td>0.328274</td>\n",
       "      <td>0.460912</td>\n",
       "      <td>0.0</td>\n",
       "      <td>0.0</td>\n",
       "      <td>0.0</td>\n",
       "      <td>0.0</td>\n",
       "      <td>0.0</td>\n",
       "      <td>0.0</td>\n",
       "      <td>0.0</td>\n",
       "      <td>0.0</td>\n",
       "      <td>0.0</td>\n",
       "      <td>0.9</td>\n",
       "    </tr>\n",
       "    <tr>\n",
       "      <th>2</th>\n",
       "      <td>1</td>\n",
       "      <td>0.479730</td>\n",
       "      <td>0.698752</td>\n",
       "      <td>0.178160</td>\n",
       "      <td>0.311752</td>\n",
       "      <td>0.0</td>\n",
       "      <td>0.0</td>\n",
       "      <td>0.0</td>\n",
       "      <td>0.0</td>\n",
       "      <td>0.0</td>\n",
       "      <td>0.0</td>\n",
       "      <td>0.0</td>\n",
       "      <td>0.0</td>\n",
       "      <td>0.0</td>\n",
       "      <td>0.9</td>\n",
       "    </tr>\n",
       "    <tr>\n",
       "      <th>3</th>\n",
       "      <td>1</td>\n",
       "      <td>0.424193</td>\n",
       "      <td>0.373197</td>\n",
       "      <td>0.430624</td>\n",
       "      <td>0.423896</td>\n",
       "      <td>0.0</td>\n",
       "      <td>0.0</td>\n",
       "      <td>0.0</td>\n",
       "      <td>0.0</td>\n",
       "      <td>0.0</td>\n",
       "      <td>0.0</td>\n",
       "      <td>0.0</td>\n",
       "      <td>0.0</td>\n",
       "      <td>0.0</td>\n",
       "      <td>0.9</td>\n",
       "    </tr>\n",
       "  </tbody>\n",
       "</table>\n",
       "</div>"
      ],
      "text/plain": [
       "   machineID      volt    rotate  pressure  vibration  error1  error2  error3  \\\n",
       "0          1  0.513781  0.503194  0.459050   0.487945     0.0     0.0     0.0   \n",
       "1          1  0.426905  0.474884  0.328274   0.460912     0.0     0.0     0.0   \n",
       "2          1  0.479730  0.698752  0.178160   0.311752     0.0     0.0     0.0   \n",
       "3          1  0.424193  0.373197  0.430624   0.423896     0.0     0.0     0.0   \n",
       "\n",
       "   error4  error5  comp1_maint  comp2_maint  comp3_maint  comp4_maint  age  \n",
       "0     0.0     0.0          0.0          0.0          0.0          0.0  0.9  \n",
       "1     0.0     0.0          0.0          0.0          0.0          0.0  0.9  \n",
       "2     0.0     0.0          0.0          0.0          0.0          0.0  0.9  \n",
       "3     0.0     0.0          0.0          0.0          0.0          0.0  0.9  "
      ]
     },
     "execution_count": 12,
     "metadata": {},
     "output_type": "execute_result"
    }
   ],
   "source": [
    "features_col_name=['machineID','volt' , 'rotate' , 'pressure' , 'vibration' ,'error1','error2','error3','error4','error5','comp1_maint','comp2_maint','comp3_maint','comp4_maint','age']\n",
    "target_col_day=['machineID','comp1_fail','comp2_fail','comp3_fail','comp4_fail']\n",
    "features_col_name_sc=['volt' , 'rotate' , 'pressure' , 'vibration' ,'error1','error2','error3','error4','error5','comp1_maint','comp2_maint','comp3_maint','comp4_maint','age']\n",
    "all_x = final_output[features_col_name]\n",
    "all_y = final_output[target_col_day]\n",
    "X_train_df = pd.DataFrame()\n",
    "X_test_df = pd.DataFrame()\n",
    "Y_train_df = pd.DataFrame()\n",
    "Y_test_df = pd.DataFrame()\n",
    "\n",
    "\n",
    "window = 8760\n",
    "start = 0\n",
    "stop = 8760\n",
    "df_new_x=[None] * 100\n",
    "df_new_y=[None] * 100\n",
    "for i in range (0,100):\n",
    "    df_new_x[i]=all_x.iloc[start:stop:]\n",
    "    df_new_y[i]=all_y.iloc[start:stop:]\n",
    "    start = stop+1\n",
    "    stop = start + window\n",
    "\n",
    "temp_list_1=[]\n",
    "temp_list_2=[]\n",
    "temp_list_3=[]\n",
    "temp_list_4=[]\n",
    "for i in range (0,100):\n",
    "    temp_list_1.append(df_new_x[i].iloc[0:7320:])\n",
    "    temp_list_2.append(df_new_x[i].iloc[7320:8760:])\n",
    "    temp_list_3.append(df_new_y[i].iloc[0:7320:])\n",
    "    temp_list_4.append(df_new_y[i].iloc[7320:8760:])\n",
    "X_train_df = pd.concat(temp_list_1)\n",
    "X_test_df = pd.concat(temp_list_2)\n",
    "Y_train_df = pd.concat(temp_list_3)\n",
    "Y_test_df = pd.concat(temp_list_4)\n",
    "\n",
    "###########################\n",
    "# WE NEED THIS SAMPLE DATAFRAME (TIME SERIES) FOR WEB APPLICATION\n",
    "test=X_test_df.iloc[0:25, :].copy()\n",
    "#########################\n",
    "\n",
    "# FOR NORMALIZE\n",
    "sc=MinMaxScaler()\n",
    "sc.fit(X_train_df[features_col_name_sc])\n",
    "X_train_df[features_col_name_sc]=sc.transform(X_train_df[features_col_name_sc])\n",
    "X_test_df[features_col_name_sc]=sc.transform(X_test_df[features_col_name_sc])\n",
    "\n",
    "X_train_df[:4]"
   ]
  },
  {
   "cell_type": "code",
   "execution_count": 17,
   "metadata": {
    "ExecuteTime": {
     "end_time": "2023-08-17T02:16:36.711268Z",
     "start_time": "2023-08-17T02:16:36.699746Z"
    }
   },
   "outputs": [],
   "source": [
    "# Save MinMaxScaler model and TEST dataframe for Web Application\n",
    "test.to_csv('saved/test.csv', index=False)\n",
    "pickle.dump(sc, open('saved/sc.pkl', 'wb'))"
   ]
  },
  {
   "cell_type": "code",
   "execution_count": 18,
   "metadata": {
    "ExecuteTime": {
     "end_time": "2023-08-17T02:23:07.645191Z",
     "start_time": "2023-08-17T02:21:51.962913Z"
    },
    "execution": {
     "iopub.execute_input": "2023-08-15T15:51:08.686744Z",
     "iopub.status.busy": "2023-08-15T15:51:08.686072Z",
     "iopub.status.idle": "2023-08-15T15:53:48.661020Z",
     "shell.execute_reply": "2023-08-15T15:53:48.660211Z",
     "shell.execute_reply.started": "2023-08-15T15:51:08.686695Z"
    }
   },
   "outputs": [],
   "source": [
    "# Rolling window for training\n",
    "# Take 24: 0-23 1-24 2-25 etc maybe create better accuracy\n",
    "\n",
    "window_train_x =[]\n",
    "counter = 0\n",
    "temp_list=[]\n",
    "last_id = 0\n",
    "for index , row in X_train_df.iterrows():\n",
    "    current_id = row['machineID']\n",
    "    if current_id != last_id:\n",
    "        temp_list = []\n",
    "        temp_list.append([row['volt'] ,row['rotate'] , row['pressure'] , row['vibration'] ,row['error1'],row['error2'],row['error3'],row['error4'],row['error5'],row['comp1_maint'],row['comp2_maint'],row['comp3_maint'],row['comp4_maint'],row['age']])\n",
    "        counter = 1\n",
    "        #appe = copy(temp_list)\n",
    "        #window_train_y_temp.append(appe)\n",
    "    else:\n",
    "        counter = counter +1\n",
    "        temp_list.append([row['volt'] ,row['rotate'] , row['pressure'] , row['vibration'] ,row['error1'],row['error2'],row['error3'],row['error4'],row['error5'],row['comp1_maint'],row['comp2_maint'],row['comp3_maint'],row['comp4_maint'],row['age']])\n",
    "        if counter == 24:\n",
    "            counter = 23\n",
    "            appe = copy(temp_list)\n",
    "            window_train_x.append(appe)\n",
    "            if len(temp_list)==24:\n",
    "                del temp_list[0]\n",
    "    last_id = current_id  \n",
    "\n",
    "window_train_x=np.array(window_train_x)"
   ]
  },
  {
   "cell_type": "code",
   "execution_count": 19,
   "metadata": {
    "ExecuteTime": {
     "end_time": "2023-08-17T02:23:36.040198Z",
     "start_time": "2023-08-17T02:23:22.000705Z"
    },
    "execution": {
     "iopub.execute_input": "2023-08-15T15:53:48.687996Z",
     "iopub.status.busy": "2023-08-15T15:53:48.686917Z",
     "iopub.status.idle": "2023-08-15T15:54:20.039186Z",
     "shell.execute_reply": "2023-08-15T15:54:20.037521Z",
     "shell.execute_reply.started": "2023-08-15T15:53:48.687953Z"
    }
   },
   "outputs": [],
   "source": [
    "# Rolling window for testing\n",
    "\n",
    "window_test_x =[]\n",
    "counter = 0\n",
    "temp_list=[]\n",
    "for index ,row in X_test_df.iterrows():\n",
    "    current_id = row['machineID']\n",
    "    if current_id != last_id:\n",
    "        temp_list = []\n",
    "        temp_list.append([row['volt'] ,row['rotate'] , row['pressure'] , row['vibration'] ,row['error1'],row['error2'],row['error3'],row['error4'],row['error5'],row['comp1_maint'],row['comp2_maint'],row['comp3_maint'],row['comp4_maint'],row['age']])\n",
    "        counter = 1\n",
    "        #appe = copy(temp_list)\n",
    "        #window_train_y_temp.append(appe)\n",
    "    else:\n",
    "        counter = counter +1\n",
    "        temp_list.append([row['volt'] ,row['rotate'] , row['pressure'] , row['vibration'] ,row['error1'],row['error2'],row['error3'],row['error4'],row['error5'],row['comp1_maint'],row['comp2_maint'],row['comp3_maint'],row['comp4_maint'],row['age']])\n",
    "        if counter == 24:\n",
    "            counter = 23\n",
    "            appe = copy(temp_list)\n",
    "            window_test_x.append(appe)\n",
    "            if len(temp_list)==24:\n",
    "                del temp_list[0]\n",
    "    last_id = current_id \n",
    "\n",
    "window_test_x=np.array(window_test_x)"
   ]
  },
  {
   "cell_type": "code",
   "execution_count": 20,
   "metadata": {
    "ExecuteTime": {
     "end_time": "2023-08-17T02:28:27.845949Z",
     "start_time": "2023-08-17T02:27:46.307483Z"
    },
    "execution": {
     "iopub.execute_input": "2023-08-15T15:54:20.041336Z",
     "iopub.status.busy": "2023-08-15T15:54:20.041092Z",
     "iopub.status.idle": "2023-08-15T15:55:28.780479Z",
     "shell.execute_reply": "2023-08-15T15:55:28.779581Z",
     "shell.execute_reply.started": "2023-08-15T15:54:20.041308Z"
    }
   },
   "outputs": [
    {
     "name": "stdout",
     "output_type": "stream",
     "text": [
      "window_model_label_1:  <class 'list'> 729700\n",
      "[0.0, 0.0, 0.0, 0.0]\n"
     ]
    }
   ],
   "source": [
    "# Four labels as an output of Transformer model for training.\n",
    "\n",
    "window_model_label_1=[]\n",
    "window_model_label_2=[]\n",
    "window_model_label_3=[]\n",
    "window_model_label_4=[]\n",
    "window_train_y=[]\n",
    "window_train_y_temp =[]\n",
    "counter = 0\n",
    "temp_list=[]\n",
    "last_id = 0\n",
    "\n",
    "# print(f'First row: {Y_train_df.iloc[0,:]}')\n",
    "\n",
    "for index , row in Y_train_df.iterrows():\n",
    "    current_id = row['machineID']\n",
    "    if current_id != last_id:\n",
    "        temp_list = []\n",
    "        temp_list.append([row['comp1_fail'],row['comp2_fail'],row['comp3_fail'],row['comp4_fail']])\n",
    "        counter = 1\n",
    "        #appe = copy(temp_list)\n",
    "        #window_train_y_temp.append(appe)\n",
    "    else:\n",
    "        counter = counter +1\n",
    "        temp_list.append([row['comp1_fail'],row['comp2_fail'],row['comp3_fail'],row['comp4_fail']])\n",
    "        if counter == 24:\n",
    "            counter = 23\n",
    "            appe = copy(temp_list)\n",
    "            window_train_y_temp.append(appe)\n",
    "            if len(temp_list)==24:\n",
    "                del temp_list[0]\n",
    "    last_id = current_id  \n",
    "    \n",
    "# print('window_train_y_temp: ', len(window_train_y_temp))\n",
    "    \n",
    "for itera in window_train_y_temp:\n",
    "    max_1=(max(itera, key=lambda x: x[0]))[0]\n",
    "    max_2=(max(itera, key=lambda x: x[1]))[1]\n",
    "    max_3=(max(itera, key=lambda x: x[2]))[2]\n",
    "    max_4=(max(itera, key=lambda x: x[3]))[3]\n",
    "    window_model_label_1.append(max_1)\n",
    "    window_model_label_2.append(max_2)\n",
    "    window_model_label_3.append(max_3)\n",
    "    window_model_label_4.append(max_4)\n",
    "    #list_max=[max_1, max_2, max_3, max_4]\n",
    "    #window_train_y.append(list_max)\n",
    "\n",
    "    \n",
    "print('window_model_label_1: ', type(window_model_label_1), len(window_model_label_1))\n",
    "print(window_model_label_1[:4])\n",
    "\n",
    "window_model_label_1=np.array(window_model_label_1)\n",
    "window_model_label_2=np.array(window_model_label_2)\n",
    "window_model_label_3=np.array(window_model_label_3)\n",
    "window_model_label_4=np.array(window_model_label_4)"
   ]
  },
  {
   "cell_type": "code",
   "execution_count": 21,
   "metadata": {
    "ExecuteTime": {
     "end_time": "2023-08-17T02:28:42.419783Z",
     "start_time": "2023-08-17T02:28:34.305830Z"
    },
    "execution": {
     "iopub.execute_input": "2023-08-15T15:55:55.861013Z",
     "iopub.status.busy": "2023-08-15T15:55:55.860717Z",
     "iopub.status.idle": "2023-08-15T15:56:09.213834Z",
     "shell.execute_reply": "2023-08-15T15:56:09.212881Z",
     "shell.execute_reply.started": "2023-08-15T15:55:55.860980Z"
    }
   },
   "outputs": [],
   "source": [
    "# Four labels as an output of Transformer model for testing.\n",
    "\n",
    "window_model_test_1=[]\n",
    "window_model_test_2=[]\n",
    "window_model_test_3=[]\n",
    "window_model_test_4=[]\n",
    "\n",
    "window_test_y=[]\n",
    "window_test_y_temp =[]\n",
    "counter = 0\n",
    "temp_list=[]\n",
    "last_id = 0\n",
    "for index , row in Y_test_df.iterrows():\n",
    "    current_id = row['machineID']\n",
    "    if current_id != last_id:\n",
    "        temp_list = []\n",
    "        temp_list.append([row['comp1_fail'],row['comp2_fail'],row['comp3_fail'],row['comp4_fail']])\n",
    "        counter=1\n",
    "        #appe = copy(temp_list)\n",
    "        #window_test_y_temp.append(appe)\n",
    "    else:\n",
    "        counter = counter +1\n",
    "        temp_list.append([row['comp1_fail'],row['comp2_fail'],row['comp3_fail'],row['comp4_fail']])\n",
    "        if counter == 24:\n",
    "            counter = 23\n",
    "            appe = copy(temp_list)\n",
    "            window_test_y_temp.append(appe)\n",
    "            if len(temp_list)==24:\n",
    "                del temp_list[0]\n",
    "    last_id = current_id   \n",
    "for itera in window_test_y_temp:\n",
    "    max_1=(max(itera, key=lambda x: x[0]))[0]\n",
    "    max_2=(max(itera, key=lambda x: x[1]))[1]\n",
    "    max_3=(max(itera, key=lambda x: x[2]))[2]\n",
    "    max_4=(max(itera, key=lambda x: x[3]))[3]\n",
    "    window_model_test_1.append(max_1)\n",
    "    window_model_test_2.append(max_2)\n",
    "    window_model_test_3.append(max_3)\n",
    "    window_model_test_4.append(max_4)\n",
    "\n",
    "window_model_test_1=np.array(window_model_test_1)\n",
    "window_model_test_2=np.array(window_model_test_2)\n",
    "window_model_test_3=np.array(window_model_test_3)\n",
    "window_model_test_4=np.array(window_model_test_4)   "
   ]
  },
  {
   "cell_type": "markdown",
   "metadata": {},
   "source": [
    "## Build and train a Transformer model (Decoder model)"
   ]
  },
  {
   "cell_type": "code",
   "execution_count": 31,
   "metadata": {
    "ExecuteTime": {
     "end_time": "2023-08-17T02:53:34.465142Z",
     "start_time": "2023-08-17T02:53:34.350585Z"
    },
    "execution": {
     "iopub.execute_input": "2023-08-15T15:57:11.634564Z",
     "iopub.status.busy": "2023-08-15T15:57:11.634258Z",
     "iopub.status.idle": "2023-08-15T15:57:11.898080Z",
     "shell.execute_reply": "2023-08-15T15:57:11.897363Z",
     "shell.execute_reply.started": "2023-08-15T15:57:11.634524Z"
    }
   },
   "outputs": [
    {
     "name": "stdout",
     "output_type": "stream",
     "text": [
      "Learning rate schedule: 0.001 to 0.001 to 1e-06\n"
     ]
    },
    {
     "data": {
      "image/png": "[encoded data removed]",
      "text/plain": [
       "<Figure size 720x288 with 1 Axes>"
      ]
     },
     "metadata": {
      "needs_background": "light"
     },
     "output_type": "display_data"
    }
   ],
   "source": [
    "# This is just to show how \"lrfn\" function works.\n",
    "# Graph shows learning rate for each Epochs\n",
    "\n",
    "EPOCHS = 8\n",
    "\n",
    "from model import lrfn\n",
    "\n",
    "rng = [i for i in range(EPOCHS)]\n",
    "lr_y = [lrfn(x) for x in rng]\n",
    "plt.figure(figsize=(10, 4))\n",
    "plt.plot(rng, lr_y, '-o')\n",
    "plt.xlabel('Epoch'); plt.ylabel('LR')\n",
    "print(\"Learning rate schedule: {:.3g} to {:.3g} to {:.3g}\". \\\n",
    "      format(lr_y[0], max(lr_y), lr_y[-1]))\n"
   ]
  },
  {
   "cell_type": "code",
   "execution_count": null,
   "metadata": {
    "ExecuteTime": {
     "end_time": "2023-08-17T02:46:05.686710Z",
     "start_time": "2023-08-17T02:35:01.236029Z"
    },
    "execution": {
     "iopub.execute_input": "2023-08-15T15:58:56.409359Z",
     "iopub.status.busy": "2023-08-15T15:58:56.409072Z",
     "iopub.status.idle": "2023-08-15T16:09:30.826666Z",
     "shell.execute_reply": "2023-08-15T16:09:30.825826Z",
     "shell.execute_reply.started": "2023-08-15T15:58:56.409326Z"
    }
   },
   "outputs": [],
   "source": [
    "from model import build_model\n",
    "\n",
    "LR = tf.keras.callbacks.LearningRateScheduler(lrfn, verbose = True)\n",
    "\n",
    "model = build_model()\n",
    "history = model.fit(window_train_x, {'comp1_fail': window_model_label_1,\n",
    "                                           'comp2_fail':window_model_label_2,\n",
    "                                          'comp3_fail':window_model_label_3,\n",
    "                                          'comp4_fail':window_model_label_4}, \n",
    "                                          epochs=8,  batch_size=512, verbose=2, callbacks = [LR])\n"
   ]
  },
  {
   "cell_type": "code",
   "execution_count": 30,
   "metadata": {
    "execution": {
     "iopub.execute_input": "2023-08-15T16:11:09.680309Z",
     "iopub.status.busy": "2023-08-15T16:11:09.680019Z",
     "iopub.status.idle": "2023-08-15T16:11:09.805224Z",
     "shell.execute_reply": "2023-08-15T16:11:09.804472Z",
     "shell.execute_reply.started": "2023-08-15T16:11:09.680276Z"
    }
   },
   "outputs": [],
   "source": [
    "# saved weights of model for Web Application\n",
    "model.save_weights('transformer_fold_0.h5')"
   ]
  },
  {
   "cell_type": "markdown",
   "metadata": {},
   "source": [
    "## Testing performance of the model"
   ]
  },
  {
   "cell_type": "code",
   "execution_count": 28,
   "metadata": {
    "ExecuteTime": {
     "end_time": "2023-08-17T02:49:46.681687Z",
     "start_time": "2023-08-17T02:47:59.468751Z"
    },
    "execution": {
     "iopub.execute_input": "2023-08-15T16:14:25.869310Z",
     "iopub.status.busy": "2023-08-15T16:14:25.869014Z",
     "iopub.status.idle": "2023-08-15T16:15:08.344085Z",
     "shell.execute_reply": "2023-08-15T16:15:08.343208Z",
     "shell.execute_reply.started": "2023-08-15T16:14:25.869277Z"
    }
   },
   "outputs": [],
   "source": [
    "# testing window_test_x data \n",
    "predicted_v0 = model.predict(np.array(window_test_x)) \n",
    "y_pred_comp1 = predicted_v0[0].flatten()\n",
    "y_pred_comp2 = predicted_v0[1].flatten()\n",
    "y_pred_comp3 = predicted_v0[2].flatten()\n",
    "y_pred_comp4 = predicted_v0[3].flatten()\n",
    "\n",
    "y_pred_classes_comp1= np.array(list(map(lambda x: 0 if x<0.5 else 1, y_pred_comp1)))\n",
    "y_pred_classes_comp2= np.array(list(map(lambda x: 0 if x<0.5 else 1, y_pred_comp2)))\n",
    "y_pred_classes_comp3= np.array(list(map(lambda x: 0 if x<0.5 else 1, y_pred_comp3)))\n",
    "y_pred_classes_comp4= np.array(list(map(lambda x: 0 if x<0.5 else 1, y_pred_comp4)))"
   ]
  },
  {
   "cell_type": "code",
   "execution_count": 30,
   "metadata": {
    "ExecuteTime": {
     "end_time": "2023-08-17T02:52:29.314976Z",
     "start_time": "2023-08-17T02:52:29.225067Z"
    },
    "execution": {
     "iopub.execute_input": "2023-08-15T16:15:09.964649Z",
     "iopub.status.busy": "2023-08-15T16:15:09.963853Z",
     "iopub.status.idle": "2023-08-15T16:15:10.165967Z",
     "shell.execute_reply": "2023-08-15T16:15:10.165188Z",
     "shell.execute_reply.started": "2023-08-15T16:15:09.964607Z"
    }
   },
   "outputs": [
    {
     "name": "stdout",
     "output_type": "stream",
     "text": [
      "141021\n",
      "401\n",
      "176\n",
      "102\n",
      "Accuracy :  0.9980381086803105\n",
      "Recall :  0.6949740034662045\n",
      "Precision :  0.7972166998011928\n",
      "F1 score :  0.7425925925925926\n"
     ]
    }
   ],
   "source": [
    "# Calculate Accuracy, Precision, Recall, and F1-Score for Fourth label of test dataset\n",
    "cm=[[0,0],[0,0]]\n",
    "for itera , iterb in zip(window_model_test_4,y_pred_classes_comp4):\n",
    "    if (itera==iterb==0):\n",
    "        #true negative\n",
    "        cm[0][0]=cm[0][0]+1\n",
    "    elif (itera==iterb==1):\n",
    "        #true positive\n",
    "        cm[1][1]=cm[1][1]+1\n",
    "    elif(iterb==1):\n",
    "        #false positive\n",
    "        cm[1][0]=cm[1][0]+1\n",
    "    elif(itera==1):\n",
    "        #false negative\n",
    "        cm[0][1]=cm[0][1]+1\n",
    "print(cm[0][0])\n",
    "print(cm[1][1])\n",
    "print(cm[0][1])\n",
    "print(cm[1][0])\n",
    "#Accuracy\n",
    "print('Accuracy : ', (cm[0][0]+cm[1][1])/(cm[0][0]+cm[1][0]+cm[0][1]+cm[1][1]))\n",
    "#Recall\n",
    "recall = (cm[1][1]/(cm[1][1]+cm[0][1]))\n",
    "print('Recall : ', recall )\n",
    "#Precision\n",
    "precision = (cm[1][1]/(cm[1][1]+cm[1][0]))\n",
    "print('Precision : ', precision )\n",
    "#F1 Score\n",
    "print('F1 score : ',2*precision*recall/(precision+recall))\n"
   ]
  },
  {
   "cell_type": "code",
   "execution_count": null,
   "metadata": {},
   "outputs": [],
   "source": []
  }
 ],
 "metadata": {
  "kernelspec": {
   "display_name": "Python 3 (ipykernel)",
   "language": "python",
   "name": "python3"
  },
  "language_info": {
   "codemirror_mode": {
    "name": "ipython",
    "version": 3
   },
   "file_extension": ".py",
   "mimetype": "text/x-python",
   "name": "python",
   "nbconvert_exporter": "python",
   "pygments_lexer": "ipython3",
   "version": "3.9.12"
  }
 },
 "nbformat": 4,
 "nbformat_minor": 4
}
